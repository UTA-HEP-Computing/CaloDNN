{
 "cells": [
  {
   "cell_type": "markdown",
   "metadata": {},
   "source": [
    "# Multiple Models Analysis"
   ]
  },
  {
   "cell_type": "code",
   "execution_count": null,
   "metadata": {},
   "outputs": [],
   "source": [
    "# Import Everything we need\n",
    "\n",
    "from DLAnalysis.Scan import *\n",
    "from DLAnalysis.LoadModel import *\n",
    "import matplotlib.pyplot as plt\n",
    "%matplotlib inline\n",
    "import numpy as np\n"
   ]
  },
  {
   "cell_type": "code",
   "execution_count": null,
   "metadata": {},
   "outputs": [],
   "source": [
    "# Choose the Models to look at\n",
    "import glob\n",
    "#ModelDirs=filter(lambda n: n[-1]!=\"1\", glob.glob(\"TrainedModels.Run.1/*\"))\n",
    "ModelDirs=glob.glob(\"TrainedModels.Test/CaloDNN*\")\n",
    "\n",
    "MyModels=LoadModels(ModelDirs,MetaDataOnly=True)\n",
    "print \"Found\",len(MyModels),\"models.\""
   ]
  },
  {
   "cell_type": "code",
   "execution_count": null,
   "metadata": {},
   "outputs": [],
   "source": [
    "# Prep the Models\n",
    "\n",
    "# Rename the Models using Width and Depth\n",
    "ResetNames(MyModels,[\"Width\",\"Depth\"])\n",
    "\n",
    "# Add the number of epochs to MetaData by counting length of history\n",
    "GetEpochs(MyModels)\n",
    "\n",
    "# Pull data from previous trainings into latest MetaData, with \"All_\" suffix\n",
    "print \"Historical Parameters:\",GetHistorical(MyModels) "
   ]
  },
  {
   "cell_type": "code",
   "execution_count": null,
   "metadata": {},
   "outputs": [],
   "source": [
    "MyModels[0].MetaData.keys()"
   ]
  },
  {
   "cell_type": "code",
   "execution_count": null,
   "metadata": {
    "scrolled": true
   },
   "outputs": [],
   "source": [
    "# Get a List of all numbers stored in MetaData\n",
    "print \"Available Parameters:\", GetGoodParams(MyModels)"
   ]
  },
  {
   "cell_type": "code",
   "execution_count": null,
   "metadata": {},
   "outputs": [],
   "source": [
    "# Make a Table of all relevant parameters, sort by 1,2,then 0 columns.\n",
    "# Note: Parameters are optional... but the columns and rows will be not optimally sorted.\n",
    "ScanTable(MyModels,['Model Name', 'Width', 'Depth', 'Epochs', 'Ele_AUC',  'Pi0_AUC', 'ChPi_AUC',  'Gamma_AUC'],[1,2,0])"
   ]
  },
  {
   "cell_type": "code",
   "execution_count": null,
   "metadata": {},
   "outputs": [],
   "source": [
    "# Plot Historical MetaData... put 4 models per plot\n",
    "#PlotMetaDataMany(MyModels,4,[\"History\",\"val_loss\"],loc=\"center left\")\n",
    "PlotMetaDataMany(MyModels,4,[\"All_History.val_acc\"],loc=\"center left\")"
   ]
  },
  {
   "cell_type": "code",
   "execution_count": null,
   "metadata": {
    "scrolled": true
   },
   "outputs": [],
   "source": [
    "# Compare Number of Epochs each model ran (only last run)\n",
    "PlotMetaData(MyModels,[\"Epochs\"])"
   ]
  },
  {
   "cell_type": "code",
   "execution_count": null,
   "metadata": {},
   "outputs": [],
   "source": [
    "# Compare AUCs for all models\n",
    "for p in ['Ele_AUC', 'Pi0_AUC', 'ChPi_AUC', 'Gamma_AUC']:\n",
    "    print p\n",
    "    try:\n",
    "        PlotMetaData(MyModels,[p],log=True)\n",
    "        plt.show()\n",
    "    except:\n",
    "        pass\n",
    "            "
   ]
  },
  {
   "cell_type": "code",
   "execution_count": null,
   "metadata": {},
   "outputs": [],
   "source": [
    "# Select models with width==32 and plot val_loss.\n",
    "PlotMetaData(filter(lambda m: m.MetaData[\"Width\"]==32, MyModels), [\"History\",\"val_loss\"],loc=0)"
   ]
  },
  {
   "cell_type": "code",
   "execution_count": null,
   "metadata": {},
   "outputs": [],
   "source": [
    "# Plot a varible for all trainings. This was pulled together above.\n",
    "PlotMetaData(MyModels,[\"All_History.val_loss\"],loc=\"center left\")"
   ]
  },
  {
   "cell_type": "code",
   "execution_count": null,
   "metadata": {
    "collapsed": true
   },
   "outputs": [],
   "source": []
  }
 ],
 "metadata": {
  "kernelspec": {
   "display_name": "Python 2",
   "language": "python",
   "name": "python2"
  },
  "language_info": {
   "codemirror_mode": {
    "name": "ipython",
    "version": 2
   },
   "file_extension": ".py",
   "mimetype": "text/x-python",
   "name": "python",
   "nbconvert_exporter": "python",
   "pygments_lexer": "ipython2",
   "version": "2.7.12"
  }
 },
 "nbformat": 4,
 "nbformat_minor": 2
}
