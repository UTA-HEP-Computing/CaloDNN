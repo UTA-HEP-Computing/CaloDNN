{
 "cells": [
  {
   "cell_type": "markdown",
   "metadata": {},
   "source": [
    "## Opening up multiple ROOT files with extracted calorimeter features. These are mixed electrons and gammas at different energies."
   ]
  },
  {
   "cell_type": "code",
   "execution_count": 3,
   "metadata": {
    "collapsed": true
   },
   "outputs": [],
   "source": [
    "%matplotlib inline\n",
    "import matplotlib.pyplot as plt\n",
    "import h5py\n",
    "import numpy as np\n",
    "import os"
   ]
  },
  {
   "cell_type": "code",
   "execution_count": 25,
   "metadata": {},
   "outputs": [],
   "source": [
    "dataDir = \"/data/LCD/V2/\"\n",
    "dataFileNames = []\n",
    "\n",
    "nFound = 0\n",
    "nSearched = 0\n",
    "while nFound < 150:\n",
    "    name = \"filtered_e-_60_GeV_normal_EHCut-5/e-_60_GeV_normal_\" + str(nSearched) + \".h5\"\n",
    "    nSearched += 1\n",
    "    if os.path.exists(dataDir + name):\n",
    "        dataFileNames.append(name)\n",
    "        nFound += 1\n",
    "\n",
    "nFound = 0\n",
    "nSearched = 0\n",
    "while nFound < 500:\n",
    "    name = \"filtered_pi+_105_GeV_normal_EHCut-5/pi+_105_GeV_normal_\" + str(nSearched) + \".h5\"\n",
    "    nSearched += 1\n",
    "    if os.path.exists(dataDir + name):\n",
    "        dataFileNames.append(name)\n",
    "        nFound += 1"
   ]
  },
  {
   "cell_type": "code",
   "execution_count": 26,
   "metadata": {},
   "outputs": [],
   "source": [
    "import os.path\n",
    "\n",
    "dataFiles = []\n",
    "for i in range(len(dataFileNames)):\n",
    "    if os.path.exists(dataDir + dataFileNames[i]):\n",
    "        dataFiles.append(h5py.File(dataDir + dataFileNames[i], \"r\"))"
   ]
  },
  {
   "cell_type": "code",
   "execution_count": 12,
   "metadata": {},
   "outputs": [
    {
     "name": "stdout",
     "output_type": "stream",
     "text": [
      "[u'ECAL', u'ECAL_E', u'ECAL_nHits', u'ECAL_ratioFirstLayerToSecondLayerE', u'ECAL_ratioFirstLayerToTotalE', u'ECALmomentX0', u'ECALmomentX1', u'ECALmomentX2', u'ECALmomentX3', u'ECALmomentX4', u'ECALmomentX5', u'ECALmomentY0', u'ECALmomentY1', u'ECALmomentY2', u'ECALmomentY3', u'ECALmomentY4', u'ECALmomentY5', u'ECALmomentZ0', u'ECALmomentZ1', u'ECALmomentZ2', u'ECALmomentZ3', u'ECALmomentZ4', u'ECALmomentZ5', u'HCAL', u'HCAL_E', u'HCAL_ECAL_ERatio', u'HCAL_ECAL_nHitsRatio', u'HCAL_nHits', u'HCAL_ratioFirstLayerToSecondLayerE', u'HCAL_ratioFirstLayerToTotalE', u'HCALmomentX0', u'HCALmomentX1', u'HCALmomentX2', u'HCALmomentX3', u'HCALmomentX4', u'HCALmomentX5', u'HCALmomentY0', u'HCALmomentY1', u'HCALmomentY2', u'HCALmomentY3', u'HCALmomentY4', u'HCALmomentY5', u'HCALmomentZ0', u'HCALmomentZ1', u'HCALmomentZ2', u'HCALmomentZ3', u'HCALmomentZ4', u'HCALmomentZ5', u'energy', u'pdgID']\n"
     ]
    }
   ],
   "source": [
    "print dataFiles[0].keys()"
   ]
  },
  {
   "cell_type": "markdown",
   "metadata": {},
   "source": [
    "## Combining samples, and explicitly labelling the electrons as class '1' and charged pions as class '0'."
   ]
  },
  {
   "cell_type": "code",
   "execution_count": 27,
   "metadata": {},
   "outputs": [
    {
     "name": "stdout",
     "output_type": "stream",
     "text": [
      "Working on feature ECAL_E\n",
      "Working on feature ECAL_nHits\n",
      "Working on feature ECAL_ratioFirstLayerToTotalE\n",
      "Working on feature ECALmomentX1\n",
      "Working on feature ECALmomentX2\n",
      "Working on feature ECALmomentX3\n",
      "Working on feature ECALmomentX4\n",
      "Working on feature ECALmomentX5\n",
      "Working on feature ECALmomentY1\n",
      "Working on feature ECALmomentY2\n",
      "Working on feature ECALmomentY3\n",
      "Working on feature ECALmomentY4\n",
      "Working on feature ECALmomentY5\n",
      "Working on feature ECALmomentZ1\n",
      "Working on feature ECALmomentZ2\n",
      "Working on feature ECALmomentZ3\n",
      "Working on feature ECALmomentZ4\n",
      "Working on feature ECALmomentZ5\n",
      "Working on feature HCAL_E\n",
      "Working on feature HCAL_ECAL_ERatio\n",
      "Working on feature HCAL_ECAL_nHitsRatio\n",
      "Working on feature HCAL_nHits\n",
      "Working on feature HCAL_ratioFirstLayerToTotalE\n",
      "Working on feature pdgID\n"
     ]
    }
   ],
   "source": [
    "data = []\n",
    "features = dataFiles[0].keys()\n",
    "\n",
    "badKeys = ['ECAL', 'HCAL', 'ECAL_ratioFirstLayerToSecondLayerE', 'HCAL_ratioFirstLayerToSecondLayerE',\n",
    "           'energy', 'ECALmomentX0', 'ECALmomentY0', 'ECALmomentZ0', 'HCALmomentX0', 'HCALmomentY0',\n",
    "           'HCALmomentZ0',\n",
    "          'HCALmomentX1', 'HCALmomentX2', 'HCALmomentX3', 'HCALmomentX4', 'HCALmomentX5',\n",
    "          'HCALmomentY1', 'HCALmomentY2', 'HCALmomentY3', 'HCALmomentY4', 'HCALmomentY5',\n",
    "          'HCALmomentZ1', 'HCALmomentZ2', 'HCALmomentZ3', 'HCALmomentZ4', 'HCALmomentZ5']\n",
    "for key in badKeys:\n",
    "    features.remove(key)\n",
    "\n",
    "import sys\n",
    "for count, feature in enumerate(features):\n",
    "    \n",
    "    print \"Working on feature\", feature\n",
    "    sys.stdout.flush()\n",
    "    \n",
    "    newFeature = []\n",
    "    for fileN in range(len(dataFiles)):\n",
    "        newFeature += dataFiles[fileN][feature]\n",
    "        \n",
    "    if feature == 'pdgID':\n",
    "        y = np.array([int(abs(x) == 11) for x in newFeature]);\n",
    "    else:\n",
    "        data.append(newFeature);\n",
    "        \n",
    "features.remove('pdgID')\n",
    "\n",
    "X = np.column_stack(data)\n",
    "\n",
    "y = y[np.isfinite(X).all(axis=1)]\n",
    "X = X[np.isfinite(X).all(axis=1)]"
   ]
  },
  {
   "cell_type": "code",
   "execution_count": 28,
   "metadata": {},
   "outputs": [],
   "source": [
    "from sklearn.cross_validation import train_test_split\n",
    "\n",
    "X_dev, X_eval, y_dev, y_eval = train_test_split(X, y, test_size=0.33, random_state=42)\n",
    "X_train, X_test, y_train, y_test = train_test_split(X_dev, y_dev, test_size=0.33, random_state=492)"
   ]
  },
  {
   "cell_type": "code",
   "execution_count": 29,
   "metadata": {},
   "outputs": [
    {
     "data": {
      "text/plain": [
       "AdaBoostClassifier(algorithm='SAMME',\n",
       "          base_estimator=DecisionTreeClassifier(class_weight=None, criterion='gini', max_depth=3,\n",
       "            max_features=None, max_leaf_nodes=None,\n",
       "            min_impurity_split=1e-07, min_samples_leaf=1,\n",
       "            min_samples_split=2, min_weight_fraction_leaf=0.0,\n",
       "            presort=False, random_state=None, splitter='best'),\n",
       "          learning_rate=0.5, n_estimators=800, random_state=None)"
      ]
     },
     "execution_count": 29,
     "metadata": {},
     "output_type": "execute_result"
    }
   ],
   "source": [
    "from sklearn.tree import DecisionTreeClassifier\n",
    "from sklearn.ensemble import AdaBoostClassifier\n",
    "from sklearn.metrics import classification_report, roc_auc_score\n",
    "\n",
    "dt = DecisionTreeClassifier(max_depth=3)\n",
    "bdt = AdaBoostClassifier(dt,\n",
    "                         algorithm='SAMME',\n",
    "                         n_estimators=800,\n",
    "                         learning_rate=0.5)\n",
    "\n",
    "bdt.fit(X_train, y_train)"
   ]
  },
  {
   "cell_type": "code",
   "execution_count": 30,
   "metadata": {},
   "outputs": [
    {
     "name": "stdout",
     "output_type": "stream",
     "text": [
      "              precision    recall  f1-score   support\n",
      "\n",
      "charged pion       1.00      0.99      1.00       395\n",
      "    electron       1.00      1.00      1.00      3275\n",
      "\n",
      " avg / total       1.00      1.00      1.00      3670\n",
      "\n",
      "Area under ROC curve: 1.0000\n"
     ]
    }
   ],
   "source": [
    "y_predicted = bdt.predict(X_test)\n",
    "#target_names = ['class 0', 'class 1', 'class 2']\n",
    "target_names = ['charged pion', 'electron']\n",
    "print (classification_report(y_test, y_predicted, target_names=target_names))\n",
    "print (\"Area under ROC curve: %.4f\"%(roc_auc_score(y_test, bdt.decision_function(X_test))))"
   ]
  },
  {
   "cell_type": "markdown",
   "metadata": {},
   "source": [
    "Precision (P) is defined as the number of true positives (T_p) over the number of true positives plus the number of false positives (F_p).  \n",
    "P = \\frac{T_p}{T_p+F_p}  \n",
    "Recall (R) is defined as the number of true positives (T_p) over the number of true positives plus the number of false negatives (F_n).  \n",
    "R = \\frac{T_p}{T_p + F_n}"
   ]
  },
  {
   "cell_type": "code",
   "execution_count": 31,
   "metadata": {},
   "outputs": [
    {
     "data": {
      "image/png": "[encoded data removed]",
      "text/plain": [
       "<matplotlib.figure.Figure at 0x7f0be0413c50>"
      ]
     },
     "metadata": {},
     "output_type": "display_data"
    }
   ],
   "source": [
    "from sklearn.metrics import roc_curve, auc\n",
    "\n",
    "decisions = bdt.decision_function(X_test)\n",
    "# Compute ROC curve and area under the curve\n",
    "fpr, tpr, thresholds = roc_curve(y_test, decisions)\n",
    "roc_auc = auc(fpr, tpr)\n",
    "\n",
    "plt.plot(fpr, tpr, lw=1, label='ROC (area = %0.2f)'%(roc_auc))\n",
    "\n",
    "plt.plot([0, 1], [0, 1], '--', color=(0.6, 0.6, 0.6), label='Luck')\n",
    "plt.xlim([-0.05, 1.05])\n",
    "plt.ylim([-0.05, 1.05])\n",
    "plt.xlabel('False Positive Rate')\n",
    "plt.ylabel('True Positive Rate')\n",
    "plt.title('Receiver operating characteristic')\n",
    "plt.legend(loc=\"lower right\")\n",
    "plt.grid()\n",
    "plt.show()"
   ]
  },
  {
   "cell_type": "code",
   "execution_count": 32,
   "metadata": {},
   "outputs": [
    {
     "data": {
      "image/png": "[encoded data removed]",
      "text/plain": [
       "<matplotlib.figure.Figure at 0x7f0b07337910>"
      ]
     },
     "metadata": {},
     "output_type": "display_data"
    }
   ],
   "source": [
    "def compare_train_test(clf, X_train, y_train, X_test, y_test, bins=30):\n",
    "    decisions = []\n",
    "    for X,y in ((X_train, y_train), (X_test, y_test)):\n",
    "        d1 = clf.decision_function(X[y>0.5]).ravel()\n",
    "        d2 = clf.decision_function(X[y<0.5]).ravel()\n",
    "        decisions += [d1, d2]\n",
    "        \n",
    "    low = min(np.min(d) for d in decisions)\n",
    "    high = max(np.max(d) for d in decisions)\n",
    "    low_high = (low,high)\n",
    "    \n",
    "    plt.hist(decisions[0], color='r', alpha=0.5, range=low_high, bins=bins, histtype='stepfilled', normed=True, label='S (train)')\n",
    "    plt.hist(decisions[1], color='b', alpha=0.5, range=low_high, bins=bins, histtype='stepfilled', normed=True, label='B (train)')\n",
    "\n",
    "    hist, bins = np.histogram(decisions[2], bins=bins, range=low_high, normed=True)\n",
    "    scale = len(decisions[2]) / sum(hist)\n",
    "    err = np.sqrt(hist * scale) / scale\n",
    "    \n",
    "    width = (bins[1] - bins[0])\n",
    "    center = (bins[:-1] + bins[1:]) / 2\n",
    "    plt.errorbar(center, hist, yerr=err, fmt='o', c='r', label='S (test)')\n",
    "    \n",
    "    hist, bins = np.histogram(decisions[3], bins=bins, range=low_high, normed=True)\n",
    "    scale = len(decisions[2]) / sum(hist)\n",
    "    err = np.sqrt(hist * scale) / scale\n",
    "\n",
    "    plt.errorbar(center, hist, yerr=err, fmt='o', c='b', label='B (test)')\n",
    "\n",
    "    plt.xlabel(\"BDT output\")\n",
    "    plt.ylabel(\"Arbitrary units\")\n",
    "    plt.legend(loc='best')\n",
    "    \n",
    "compare_train_test(bdt, X_train, y_train, X_test, y_test)"
   ]
  },
  {
   "cell_type": "code",
   "execution_count": 33,
   "metadata": {},
   "outputs": [
    {
     "name": "stdout",
     "output_type": "stream",
     "text": [
      "Feature ranking:\n",
      "1. HCAL_nHits (0.173457)\n",
      "2. ECAL_E (0.135110)\n",
      "3. ECALmomentZ1 (0.126652)\n",
      "4. ECALmomentY5 (0.110985)\n",
      "5. ECAL_nHits (0.078583)\n",
      "6. HCAL_E (0.062295)\n",
      "7. ECAL_ratioFirstLayerToTotalE (0.052166)\n",
      "8. ECALmomentX1 (0.035415)\n",
      "9. HCAL_ECAL_ERatio (0.031651)\n",
      "10. ECALmomentY4 (0.031493)\n",
      "11. ECALmomentZ2 (0.030736)\n",
      "12. HCAL_ratioFirstLayerToTotalE (0.028296)\n",
      "13. ECALmomentX5 (0.025176)\n",
      "14. ECALmomentY3 (0.017541)\n",
      "15. ECALmomentX3 (0.015427)\n",
      "16. ECALmomentX2 (0.009514)\n",
      "17. ECALmomentY2 (0.009445)\n",
      "18. ECALmomentX4 (0.008819)\n",
      "19. ECALmomentZ3 (0.008803)\n",
      "20. ECALmomentY1 (0.008007)\n",
      "21. ECALmomentZ4 (0.000430)\n",
      "22. ECALmomentZ5 (0.000000)\n",
      "23. HCAL_ECAL_nHitsRatio (0.000000)\n"
     ]
    },
    {
     "data": {
      "image/png": "[encoded data removed]",
      "text/plain": [
       "<matplotlib.figure.Figure at 0x7f0b94916190>"
      ]
     },
     "metadata": {},
     "output_type": "display_data"
    }
   ],
   "source": [
    "importances = bdt.feature_importances_\n",
    "std = np.std([tree.feature_importances_ for tree in bdt.estimators_],\n",
    "             axis=0)\n",
    "indices = np.argsort(importances)[::-1]\n",
    "\n",
    "# Print the feature ranking\n",
    "print(\"Feature ranking:\")\n",
    "\n",
    "for f in range(X.shape[1]):\n",
    "    print(\"%d. %s (%f)\" % (f+1, features[indices[f]], importances[indices[f]]))\n",
    "\n",
    "# Plot the feature importances of the forest\n",
    "plt.figure()\n",
    "plt.title(\"Feature importances\")\n",
    "plt.bar(range(X.shape[1]), importances[indices],\n",
    "       color=\"r\", yerr=std[indices], align=\"center\")\n",
    "plt.xticks(range(X.shape[1]))\n",
    "plt.xlim([-1, X.shape[1]])\n",
    "plt.show()"
   ]
  },
  {
   "cell_type": "code",
   "execution_count": null,
   "metadata": {
    "collapsed": true
   },
   "outputs": [],
   "source": []
  }
 ],
 "metadata": {
  "kernelspec": {
   "display_name": "Python 2",
   "language": "python",
   "name": "python2"
  },
  "language_info": {
   "codemirror_mode": {
    "name": "ipython",
    "version": 2
   },
   "file_extension": ".py",
   "mimetype": "text/x-python",
   "name": "python",
   "nbconvert_exporter": "python",
   "pygments_lexer": "ipython2",
   "version": "2.7.12"
  }
 },
 "nbformat": 4,
 "nbformat_minor": 1
}
