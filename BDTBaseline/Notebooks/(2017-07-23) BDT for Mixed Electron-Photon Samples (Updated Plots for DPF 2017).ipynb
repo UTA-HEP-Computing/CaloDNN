{
 "cells": [
  {
   "cell_type": "markdown",
   "metadata": {},
   "source": [
    "## Opening up multiple ROOT files with extracted calorimeter features. These are mixed electrons and gammas at different energies."
   ]
  },
  {
   "cell_type": "code",
   "execution_count": 1,
   "metadata": {},
   "outputs": [],
   "source": [
    "%matplotlib inline\n",
    "import matplotlib.pyplot as plt\n",
    "import h5py\n",
    "import numpy as np"
   ]
  },
  {
   "cell_type": "code",
   "execution_count": 4,
   "metadata": {},
   "outputs": [],
   "source": [
    "dataDir = \"/data/LCD/V2/MLDataset/\"\n",
    "dataFileNames = []\n",
    "for i in range(20):\n",
    "    dataFileNames.append(\"GammaEscan/GammaEscan_\" + str(i) + \".h5\")\n",
    "    dataFileNames.append(\"Pi0Escan/Pi0Escan_\" + str(i) + \".h5\")"
   ]
  },
  {
   "cell_type": "code",
   "execution_count": 5,
   "metadata": {},
   "outputs": [],
   "source": [
    "dataFiles = []\n",
    "for i in range(len(dataFileNames)):\n",
    "    dataFiles.append(h5py.File(dataDir + dataFileNames[i], \"r\"))"
   ]
  },
  {
   "cell_type": "code",
   "execution_count": 6,
   "metadata": {},
   "outputs": [
    {
     "name": "stdout",
     "output_type": "stream",
     "text": [
      "[u'ECAL', u'ECAL_E', u'ECAL_nHits', u'ECAL_ratioFirstLayerToSecondLayerE', u'ECAL_ratioFirstLayerToTotalE', u'ECALmomentX0', u'ECALmomentX1', u'ECALmomentX2', u'ECALmomentX3', u'ECALmomentX4', u'ECALmomentX5', u'ECALmomentY0', u'ECALmomentY1', u'ECALmomentY2', u'ECALmomentY3', u'ECALmomentY4', u'ECALmomentY5', u'ECALmomentZ0', u'ECALmomentZ1', u'ECALmomentZ2', u'ECALmomentZ3', u'ECALmomentZ4', u'ECALmomentZ5', u'HCAL', u'HCAL_E', u'HCAL_ECAL_ERatio', u'HCAL_ECAL_nHitsRatio', u'HCAL_nHits', u'HCAL_ratioFirstLayerToSecondLayerE', u'HCAL_ratioFirstLayerToTotalE', u'HCALmomentX0', u'HCALmomentX1', u'HCALmomentX2', u'HCALmomentX3', u'HCALmomentX4', u'HCALmomentX5', u'HCALmomentY0', u'HCALmomentY1', u'HCALmomentY2', u'HCALmomentY3', u'HCALmomentY4', u'HCALmomentY5', u'HCALmomentZ0', u'HCALmomentZ1', u'HCALmomentZ2', u'HCALmomentZ3', u'HCALmomentZ4', u'HCALmomentZ5', u'conversion', u'energy', u'pdgID']\n"
     ]
    }
   ],
   "source": [
    "print dataFiles[0].keys()"
   ]
  },
  {
   "cell_type": "markdown",
   "metadata": {},
   "source": [
    "## Combining samples, and explicitly labelling the electrons as class '1' and photons as class '0'."
   ]
  },
  {
   "cell_type": "code",
   "execution_count": 16,
   "metadata": {},
   "outputs": [],
   "source": [
    "data = []\n",
    "features = dataFiles[0].keys()\n",
    "features.remove('ECAL')\n",
    "features.remove('HCAL')\n",
    "\n",
    "for count, feature in enumerate(features):\n",
    "    \n",
    "    newFeature = []\n",
    "    for fileN in range(len(dataFiles)):\n",
    "        newFeature += dataFiles[fileN][feature]\n",
    "        \n",
    "    if feature == 'pdgID':\n",
    "        y = np.array([int(abs(x) == 111) for x in newFeature]);\n",
    "    else:\n",
    "        data.append(newFeature);\n",
    "\n",
    "X = np.column_stack(data)\n",
    "\n",
    "y = y[np.isfinite(X).all(axis=1)]\n",
    "X = X[np.isfinite(X).all(axis=1)]"
   ]
  },
  {
   "cell_type": "code",
   "execution_count": 18,
   "metadata": {},
   "outputs": [],
   "source": [
    "from sklearn.cross_validation import train_test_split\n",
    "\n",
    "X_dev, X_eval, y_dev, y_eval = train_test_split(X, y, test_size=0.33, random_state=42)\n",
    "X_train, X_test, y_train, y_test = train_test_split(X_dev, y_dev, test_size=0.33, random_state=492)"
   ]
  },
  {
   "cell_type": "code",
   "execution_count": 19,
   "metadata": {},
   "outputs": [
    {
     "data": {
      "text/plain": [
       "AdaBoostClassifier(algorithm='SAMME',\n",
       "          base_estimator=DecisionTreeClassifier(class_weight=None, criterion='gini', max_depth=3,\n",
       "            max_features=None, max_leaf_nodes=None,\n",
       "            min_impurity_split=1e-07, min_samples_leaf=1,\n",
       "            min_samples_split=2, min_weight_fraction_leaf=0.0,\n",
       "            presort=False, random_state=None, splitter='best'),\n",
       "          learning_rate=0.5, n_estimators=800, random_state=None)"
      ]
     },
     "execution_count": 19,
     "metadata": {},
     "output_type": "execute_result"
    }
   ],
   "source": [
    "from sklearn.tree import DecisionTreeClassifier\n",
    "from sklearn.ensemble import AdaBoostClassifier\n",
    "from sklearn.metrics import classification_report, roc_auc_score\n",
    "\n",
    "dt = DecisionTreeClassifier(max_depth=3)\n",
    "bdt = AdaBoostClassifier(dt,\n",
    "                         algorithm='SAMME',\n",
    "                         n_estimators=800,\n",
    "                         learning_rate=0.5)\n",
    "\n",
    "bdt.fit(X_train, y_train)"
   ]
  },
  {
   "cell_type": "code",
   "execution_count": 20,
   "metadata": {},
   "outputs": [
    {
     "name": "stdout",
     "output_type": "stream",
     "text": [
      "             precision    recall  f1-score   support\n",
      "\n",
      "     photon       1.00      1.00      1.00     40622\n",
      "   electron       1.00      1.00      1.00     40842\n",
      "\n",
      "avg / total       1.00      1.00      1.00     81464\n",
      "\n",
      "Area under ROC curve: 1.0000\n"
     ]
    }
   ],
   "source": [
    "y_predicted = bdt.predict(X_test)\n",
    "#target_names = ['class 0', 'class 1', 'class 2']\n",
    "target_names = ['photon', 'electron']\n",
    "print (classification_report(y_test, y_predicted, target_names=target_names))\n",
    "print (\"Area under ROC curve: %.4f\"%(roc_auc_score(y_test, bdt.decision_function(X_test))))"
   ]
  },
  {
   "cell_type": "markdown",
   "metadata": {},
   "source": [
    "Precision (P) is defined as the number of true positives (T_p) over the number of true positives plus the number of false positives (F_p).  \n",
    "P = \\frac{T_p}{T_p+F_p}  \n",
    "Recall (R) is defined as the number of true positives (T_p) over the number of true positives plus the number of false negatives (F_n).  \n",
    "R = \\frac{T_p}{T_p + F_n}"
   ]
  },
  {
   "cell_type": "code",
   "execution_count": 21,
   "metadata": {},
   "outputs": [
    {
     "data": {
      "image/png": "[encoded data removed]",
      "text/plain": [
       "<matplotlib.figure.Figure at 0x7f24432e49d0>"
      ]
     },
     "metadata": {},
     "output_type": "display_data"
    }
   ],
   "source": [
    "from sklearn.metrics import roc_curve, auc\n",
    "\n",
    "decisions = bdt.decision_function(X_test)\n",
    "# Compute ROC curve and area under the curve\n",
    "fpr, tpr, thresholds = roc_curve(y_test, decisions)\n",
    "roc_auc = auc(fpr, tpr)\n",
    "\n",
    "plt.plot(fpr, tpr, lw=1, label='ROC (area = %0.2f)'%(roc_auc))\n",
    "\n",
    "plt.plot([0, 1], [0, 1], '--', color=(0.6, 0.6, 0.6), label='Luck')\n",
    "plt.xlim([-0.05, 1.05])\n",
    "plt.ylim([-0.05, 1.05])\n",
    "plt.xlabel('False Positive Rate')\n",
    "plt.ylabel('True Positive Rate')\n",
    "plt.title('Receiver operating characteristic')\n",
    "plt.legend(loc=\"lower right\")\n",
    "plt.grid()\n",
    "plt.show()"
   ]
  },
  {
   "cell_type": "code",
   "execution_count": 22,
   "metadata": {},
   "outputs": [
    {
     "data": {
      "image/png": "[encoded data removed]",
      "text/plain": [
       "<matplotlib.figure.Figure at 0x7f24612fb110>"
      ]
     },
     "metadata": {},
     "output_type": "display_data"
    }
   ],
   "source": [
    "def compare_train_test(clf, X_train, y_train, X_test, y_test, bins=30):\n",
    "    decisions = []\n",
    "    for X,y in ((X_train, y_train), (X_test, y_test)):\n",
    "        d1 = clf.decision_function(X[y>0.5]).ravel()\n",
    "        d2 = clf.decision_function(X[y<0.5]).ravel()\n",
    "        decisions += [d1, d2]\n",
    "        \n",
    "    low = min(np.min(d) for d in decisions)\n",
    "    high = max(np.max(d) for d in decisions)\n",
    "    low_high = (low,high)\n",
    "    \n",
    "    plt.hist(decisions[0], color='r', alpha=0.5, range=low_high, bins=bins, histtype='stepfilled', normed=True, label='S (train)')\n",
    "    plt.hist(decisions[1], color='b', alpha=0.5, range=low_high, bins=bins, histtype='stepfilled', normed=True, label='B (train)')\n",
    "\n",
    "    hist, bins = np.histogram(decisions[2], bins=bins, range=low_high, normed=True)\n",
    "    scale = len(decisions[2]) / sum(hist)\n",
    "    err = np.sqrt(hist * scale) / scale\n",
    "    \n",
    "    width = (bins[1] - bins[0])\n",
    "    center = (bins[:-1] + bins[1:]) / 2\n",
    "    plt.errorbar(center, hist, yerr=err, fmt='o', c='r', label='S (test)')\n",
    "    \n",
    "    hist, bins = np.histogram(decisions[3], bins=bins, range=low_high, normed=True)\n",
    "    scale = len(decisions[2]) / sum(hist)\n",
    "    err = np.sqrt(hist * scale) / scale\n",
    "\n",
    "    plt.errorbar(center, hist, yerr=err, fmt='o', c='b', label='B (test)')\n",
    "\n",
    "    plt.xlabel(\"BDT output\")\n",
    "    plt.ylabel(\"Arbitrary units\")\n",
    "    plt.legend(loc='best')\n",
    "    \n",
    "compare_train_test(bdt, X_train, y_train, X_test, y_test)"
   ]
  },
  {
   "cell_type": "code",
   "execution_count": null,
   "metadata": {
    "collapsed": true
   },
   "outputs": [],
   "source": []
  }
 ],
 "metadata": {
  "kernelspec": {
   "display_name": "Python 2",
   "language": "python",
   "name": "python2"
  },
  "language_info": {
   "codemirror_mode": {
    "name": "ipython",
    "version": 2
   },
   "file_extension": ".py",
   "mimetype": "text/x-python",
   "name": "python",
   "nbconvert_exporter": "python",
   "pygments_lexer": "ipython2",
   "version": "2.7.12"
  }
 },
 "nbformat": 4,
 "nbformat_minor": 1
}
