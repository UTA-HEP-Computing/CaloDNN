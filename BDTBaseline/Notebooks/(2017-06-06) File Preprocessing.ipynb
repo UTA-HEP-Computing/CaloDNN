{
 "cells": [
  {
   "cell_type": "code",
   "execution_count": 111,
   "metadata": {
    "collapsed": false
   },
   "outputs": [],
   "source": [
    "import h5py as h5\n",
    "import numpy as np"
   ]
  },
  {
   "cell_type": "code",
   "execution_count": 112,
   "metadata": {
    "collapsed": true
   },
   "outputs": [],
   "source": [
    "# wish there was a more memory-efficient way to do this, but for now we take all features from input data and concat\n",
    "# into a numpy array\n",
    "def appendData(dataFile, classID, X, y):\n",
    "    features = dataFile.keys()\n",
    "    featuresToRemove = [\"ECAL\", \"HCAL\", \"conversion\", \"energy\", \"pdgID\"]\n",
    "    for feature in featuresToRemove:\n",
    "        if feature in features: features.remove(feature)\n",
    "    for feature in features:\n",
    "        X[feature] = X.get(feature,[]) + list(dataFile[feature])\n",
    "    nEvents = len(dataFile[\"ECAL\"])\n",
    "    y += [classID]*nEvents"
   ]
  },
  {
   "cell_type": "code",
   "execution_count": 113,
   "metadata": {
    "collapsed": true
   },
   "outputs": [],
   "source": [
    "import pandas as pd\n",
    "def preprocessData(X, y):\n",
    "    X = np.array(pd.DataFrame(X))\n",
    "    y = np.array(y)\n",
    "    return X, y"
   ]
  },
  {
   "cell_type": "code",
   "execution_count": 114,
   "metadata": {
    "collapsed": false
   },
   "outputs": [],
   "source": [
    "from sklearn.model_selection import train_test_split\n",
    "def splitSamples(dataX, dataY):\n",
    "    return train_test_split(dataX, dataY, test_size=0.33, random_state=42)"
   ]
  },
  {
   "cell_type": "code",
   "execution_count": 115,
   "metadata": {
    "collapsed": true
   },
   "outputs": [],
   "source": [
    "# combines files (a list of tuples with (fileName, classN)), and returns trainX, testX, trainY, testY\n",
    "def processDataFiles(dataFiles):\n",
    "    X = {}\n",
    "    y = []\n",
    "    for dataFile in dataFiles:\n",
    "        fileName = dataFile[0]\n",
    "        classN = dataFile[1]\n",
    "        newSample = h5.File(fileName)\n",
    "        appendData(newSample, classN, X, y)\n",
    "    X, y = preprocessData(X, y)\n",
    "    return splitSamples(X, y)"
   ]
  }
 ],
 "metadata": {
  "kernelspec": {
   "display_name": "Python 2",
   "language": "python",
   "name": "python2"
  },
  "language_info": {
   "codemirror_mode": {
    "name": "ipython",
    "version": 2
   },
   "file_extension": ".py",
   "mimetype": "text/x-python",
   "name": "python",
   "nbconvert_exporter": "python",
   "pygments_lexer": "ipython2",
   "version": "2.7.10"
  }
 },
 "nbformat": 4,
 "nbformat_minor": 0
}
