{
 "cells": [
  {
   "cell_type": "markdown",
   "metadata": {},
   "source": [
    "# Single Model Energy-depedent Classification Performance Analysis"
   ]
  },
  {
   "cell_type": "code",
   "execution_count": 2,
   "metadata": {
    "scrolled": false
   },
   "outputs": [
    {
     "name": "stderr",
     "output_type": "stream",
     "text": [
      "/usr/local/lib/python2.7/dist-packages/IPython/core/magics/execution.py:608: UserWarning: u'../../CaloDNN.ClassificationExperiment' is not a valid modulename on sys.path\n",
      "  warn('%r is not a valid modulename on sys.path'%modulename)\n"
     ]
    }
   ],
   "source": [
    "%matplotlib inline\n",
    "\n",
    "# Simply Run the usual experiment, using -L option to specify the model to load\n",
    "# Sets up the model and the data\n",
    "\n",
    "%run -im ../../CaloDNN.ClassificationExperiment -- --NoAnalysis --NoTrain --cpu -L \"/home/mazhang/DLKit/CaloDNN/NeuralNets/Cache/Dense_GammaPi0_500Epochs/Model/\""
   ]
  },
  {
   "cell_type": "code",
   "execution_count": null,
   "metadata": {
    "scrolled": false
   },
   "outputs": [
    {
     "name": "stdout",
     "output_type": "stream",
     "text": [
      "Searching in : /data/LCD/*/*.h5\n",
      "Found 639 files.\n",
      ". . . . . . . . . . . . . . . . . . . . . . . . . . . . . . . . . . . . . . . . . . . . . . . . . . . . . . . . . . . . . . . . . . . . . . . . . . . . . . . . . . . . . . . . . . . . . . . . .\n"
     ]
    }
   ],
   "source": [
    "TrainSampleList,TestSampleList,Norms,shapes=SetupData(FileSearch,\n",
    "                                                      ECAL,HCAL,True,NClasses,\n",
    "                                                      [float(NSamples)/MaxEvents,\n",
    "                                                       float(NTestSamples)/MaxEvents],\n",
    "                                                      Particles,\n",
    "                                                      BatchSize,\n",
    "                                                      multiplier,\n",
    "                                                      ECALShape,\n",
    "                                                      HCALShape,\n",
    "                                                      ECALNorm,\n",
    "                                                      HCALNorm)\n",
    "\n",
    "Test_genC = MakeGenerator(ECAL, HCAL, TestSampleList, NTestSamples, LCDNormalization(Norms),\n",
    "                          Merge=False,\n",
    "                          batchsize=BatchSize,\n",
    "                          shapes=shapes,\n",
    "                          n_threads=n_threads,\n",
    "                          multiplier=multiplier,\n",
    "                          cachefile=\"/tmp/CaloDNN-Analysis.h5\")\n",
    "\n",
    "print \"Loading Data into Memory:\"\n",
    "Test_genC.PreloadData(n_threads_cache)\n",
    "Test_X_ECAL, Test_X_HCAL, target, Test_Y = tuple(Test_genC.D)\n"
   ]
  },
  {
   "cell_type": "code",
   "execution_count": null,
   "metadata": {
    "scrolled": true
   },
   "outputs": [
    {
     "name": "stderr",
     "output_type": "stream",
     "text": [
      "/home/afarbin/.virtualenvs/keras2/local/lib/python2.7/site-packages/matplotlib/__init__.py:1401: UserWarning:  This call to matplotlib.use() has no effect\n",
      "because the backend has already been chosen;\n",
      "matplotlib.use() must be called *before* pylab, matplotlib.pyplot,\n",
      "or matplotlib.backends is imported for the first time.\n",
      "\n",
      "  warnings.warn(_use_error_msg)\n"
     ]
    }
   ],
   "source": [
    "# Make the ROC Curves\n",
    "# Also performs inference on the test data, returning the results\n",
    "from DLAnalysis.Classification import *\n",
    "result,NewMetaData=MultiClassificationAnalysis(MyModel,[Test_X_ECAL,Test_X_HCAL],Test_Y,BatchSize,\n",
    "                                                       IndexMap={0:'Pi0', 2:'ChPi', 3:'Gamma', 1:'Ele'})"
   ]
  },
  {
   "cell_type": "code",
   "execution_count": null,
   "metadata": {
    "collapsed": true
   },
   "outputs": [],
   "source": [
    "# Bin the data\n",
    "Energy=target[:,:,2].flatten()\n",
    "\n",
    "def AUCvsEnergy(E_min=10.,E_max=510.,E_bins=100.):\n",
    "    BD,E_binning=BinDataIndex(Energy, E_min, E_max, E_bins)\n",
    "    # Run the Classification Analysis in Bins\n",
    "    return BinMultiClassificationAnalysis(MyModel,Test_Y=Test_Y,Y_binning=E_binning,\n",
    "                                          bin_indecies=BD, result=result,\n",
    "                                          IndexMap={0:'Pi0', 2:'ChPi', 3:'Gamma', 1:'Ele'})"
   ]
  },
  {
   "cell_type": "code",
   "execution_count": null,
   "metadata": {
    "collapsed": true,
    "scrolled": true
   },
   "outputs": [],
   "source": [
    "# Full Energy Range\n",
    "Res=AUCvsEnergy(10.,510.,50.)"
   ]
  },
  {
   "cell_type": "code",
   "execution_count": null,
   "metadata": {
    "collapsed": true
   },
   "outputs": [],
   "source": [
    "# 10 to 100 GeV\n",
    "Res=AUCvsEnergy(10.,110.,20.)"
   ]
  },
  {
   "cell_type": "code",
   "execution_count": null,
   "metadata": {
    "collapsed": true
   },
   "outputs": [],
   "source": [
    "# 250 to 350 GeV\n",
    "Res=AUCvsEnergy(250.,350.,50.)"
   ]
  },
  {
   "cell_type": "code",
   "execution_count": null,
   "metadata": {
    "collapsed": true
   },
   "outputs": [],
   "source": [
    "tmp=plt.hist(Energy,bins=100)"
   ]
  },
  {
   "cell_type": "code",
   "execution_count": null,
   "metadata": {
    "collapsed": true
   },
   "outputs": [],
   "source": []
  }
 ],
 "metadata": {
  "kernelspec": {
   "display_name": "Python 2",
   "language": "python",
   "name": "python2"
  },
  "language_info": {
   "codemirror_mode": {
    "name": "ipython",
    "version": 2
   },
   "file_extension": ".py",
   "mimetype": "text/x-python",
   "name": "python",
   "nbconvert_exporter": "python",
   "pygments_lexer": "ipython2",
   "version": "2.7.12"
  }
 },
 "nbformat": 4,
 "nbformat_minor": 2
}
