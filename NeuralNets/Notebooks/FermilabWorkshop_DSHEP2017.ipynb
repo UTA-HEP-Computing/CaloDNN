{
 "cells": [
  {
   "cell_type": "markdown",
   "metadata": {},
   "source": [
    "# Introduction to Session\n",
    "\n",
    "Welcome to the \"Imaging Detector Dataset\" practical exercises in the [DS@HEP 2017 workshop at Fermilab](https://indico.fnal.gov/conferenceDisplay.py?confId=13497). In this package we will be studying the LCD calorimeter dataset.\n",
    "\n",
    "Please read and execute the following ipython notebook packages in a jupyter hub session:\n",
    "\n",
    "* [CaloDNN/InstallationAndSetup.ipynb](InstallationAndSetup.ipynb): This notebook will get your account setup and ready to use jupyter notebooks.\n",
    "\n",
    "\n",
    "* [CaloDNN/LCDPhysicsAndDLProblem.ipynb](LCDPhysicsAndDLProblem.ipynb): This notebook describes and visualizes the dataset and deep learning problem(s). This is a good resource for people unfamiliar with calorimetery.\n",
    "\n",
    "\n",
    "* [CaloDNN/RunCaloDNNAnalysis_Basics.ipynb](RunCaloDNNAnalysis_Basics.ipynb): This notebook will describe the package layout and allow you to run and understand a simple test experiment.\n",
    "\n",
    "\n",
    "* [CaloDNN/RunCaloDNNAnalysis_ModelBuilding.ipynb](RunCaloDNNAnalysis_ModelBuilding.ipynb): (To do)\n",
    "\n",
    "\n",
    "(*LH: will need to move RunCaloDNNAnalysis_blah into DLKit directory.* )\n",
    "\n",
    "\n",
    "We hope you will make use of the tools and packages during this workshop to help us solve some of the outstanding deep learning problems related to this LCD calorimetry datasets.\n",
    "\n",
    "**Have fun!**"
   ]
  },
  {
   "cell_type": "code",
   "execution_count": null,
   "metadata": {
    "collapsed": true
   },
   "outputs": [],
   "source": []
  }
 ],
 "metadata": {
  "kernelspec": {
   "display_name": "Python 2",
   "language": "python",
   "name": "python2"
  },
  "language_info": {
   "codemirror_mode": {
    "name": "ipython",
    "version": 2
   },
   "file_extension": ".py",
   "mimetype": "text/x-python",
   "name": "python",
   "nbconvert_exporter": "python",
   "pygments_lexer": "ipython2",
   "version": "2.7.12"
  }
 },
 "nbformat": 4,
 "nbformat_minor": 2
}
