{
 "cells": [
  {
   "cell_type": "markdown",
   "metadata": {},
   "source": [
    "The following runs the Classification Experiment. Remove \"--Test\" to run on full dataset for many epochs."
   ]
  },
  {
   "cell_type": "code",
   "execution_count": 1,
   "metadata": {
    "scrolled": false
   },
   "outputs": [
    {
     "name": "stdout",
     "output_type": "stream",
     "text": [
      "Using GPU 7\n",
      "Found 88 CPUs and 10 GPUs. Using 8 threads. max_threads = 12\n",
      "HyperParameter Scan:  240 possible combiniations.\n",
      "______________________________________\n",
      "ScanConfiguration\n",
      "______________________________________\n",
      "Picked combination:  0\n",
      "Combo[0]={'Width': 32, 'Depth': 1, 'lr': 0.01, 'optimizer': \"'RMSprop'\", 'decay': 0.01}\n",
      "Model Filename:  CaloDNN_32_1_0.01_RMSprop_0.01\n",
      "______________________________________\n",
      "Couldn't import dot_parser, loading of dot files will not be possible.\n"
     ]
    },
    {
     "name": "stderr",
     "output_type": "stream",
     "text": [
      "Using Theano backend.\n",
      "WARNING (theano.sandbox.cuda): The cuda backend is deprecated and will be removed in the next release (v0.10).  Please switch to the gpuarray backend. You can get more information about how to switch at this URL:\n",
      " https://github.com/Theano/Theano/wiki/Converting-to-the-new-gpu-back-end%28gpuarray%29\n",
      "\n",
      "Using gpu device 7: TITAN X (Pascal) (CNMeM is disabled, cuDNN 5105)\n"
     ]
    },
    {
     "name": "stdout",
     "output_type": "stream",
     "text": [
      "Searching in : /data/LCD/V2/MLDataset/*/*.h5\n",
      "Found 40 files.\n",
      "Train Class Index Map: {'Pi0': 0, 'Gamma': 1}\n",
      "Caching data on disk for faster processing after first epoch. Hope you have enough disk space.\n",
      "Looking for Previous Model to load.\n",
      "Building Model... Merged Models\n",
      " Done.\n",
      "Output Directory: /home/mazhang/DLKit/CaloDNN/NeuralNets/Cache/Dense_GammaPi0_50Epochs/Model/CaloDNN_32_1_0.01_RMSprop_0.01_Merged\n",
      "____________________________________________________________________________________________________\n",
      "Layer (type)                     Output Shape          Param #     Connected to                     \n",
      "====================================================================================================\n",
      "input_1 (InputLayer)             (None, 25, 25, 25)    0                                            \n",
      "____________________________________________________________________________________________________\n",
      "input_2 (InputLayer)             (None, 5, 5, 60)      0                                            \n",
      "____________________________________________________________________________________________________\n",
      "flatten_1 (Flatten)              (None, 15625)         0           input_1[0][0]                    \n",
      "____________________________________________________________________________________________________\n",
      "flatten_2 (Flatten)              (None, 1500)          0           input_2[0][0]                    \n",
      "____________________________________________________________________________________________________\n",
      "activation_1 (Activation)        (None, 15625)         0           flatten_1[0][0]                  \n",
      "____________________________________________________________________________________________________\n",
      "activation_4 (Activation)        (None, 1500)          0           flatten_2[0][0]                  \n",
      "____________________________________________________________________________________________________\n",
      "dense_1 (Dense)                  (None, 32)            500032      activation_1[0][0]               \n",
      "____________________________________________________________________________________________________\n",
      "dense_3 (Dense)                  (None, 32)            48032       activation_4[0][0]               \n",
      "____________________________________________________________________________________________________\n",
      "activation_2 (Activation)        (None, 32)            0           dense_1[0][0]                    \n",
      "____________________________________________________________________________________________________\n",
      "activation_5 (Activation)        (None, 32)            0           dense_3[0][0]                    \n",
      "____________________________________________________________________________________________________\n",
      "dropout_1 (Dropout)              (None, 32)            0           activation_2[0][0]               \n",
      "____________________________________________________________________________________________________\n",
      "dropout_3 (Dropout)              (None, 32)            0           activation_5[0][0]               \n",
      "____________________________________________________________________________________________________\n",
      "dense_2 (Dense)                  (None, 32)            1056        dropout_1[0][0]                  \n",
      "____________________________________________________________________________________________________\n",
      "dense_4 (Dense)                  (None, 32)            1056        dropout_3[0][0]                  \n",
      "____________________________________________________________________________________________________\n",
      "activation_3 (Activation)        (None, 32)            0           dense_2[0][0]                    \n",
      "____________________________________________________________________________________________________\n",
      "activation_6 (Activation)        (None, 32)            0           dense_4[0][0]                    \n",
      "____________________________________________________________________________________________________\n",
      "dropout_2 (Dropout)              (None, 32)            0           activation_3[0][0]               \n",
      "____________________________________________________________________________________________________\n",
      "dropout_4 (Dropout)              (None, 32)            0           activation_6[0][0]               \n",
      "____________________________________________________________________________________________________\n",
      "concatenate_1 (Concatenate)      (None, 64)            0           dropout_2[0][0]                  \n",
      "                                                                   dropout_4[0][0]                  \n",
      "____________________________________________________________________________________________________\n",
      "dense_5 (Dense)                  (None, 2)             130         concatenate_1[0][0]              \n",
      "====================================================================================================\n",
      "Total params: 550,306\n",
      "Trainable params: 550,306\n",
      "Non-trainable params: 0\n",
      "____________________________________________________________________________________________________\n",
      "Compiling Model.\n",
      "Warning: optimizer configuration parameter epsilon was not set in configuration file. Will use default.\n",
      "Warning: optimizer configuration parameter rho was not set in configuration file. Will use default.\n",
      "Training.\n",
      "Evaluating score on test sample...\n",
      "Warning: out of files for Pi0\n",
      "Initial Score: [0.69314806625760839, 0.49846780711206895]\n",
      "Epoch 1/50\n",
      "234/234 [==============================] - 181s - loss: 0.6183 - acc: 0.6678 - val_loss: 0.5054 - val_acc: 0.8042\n",
      "Epoch 2/50\n",
      "234/234 [==============================] - 31s - loss: 0.4961 - acc: 0.7858 - val_loss: 0.4146 - val_acc: 0.8345\n",
      "Epoch 3/50\n",
      "234/234 [==============================] - 39s - loss: 0.4476 - acc: 0.8124 - val_loss: 0.3883 - val_acc: 0.8399\n",
      "Epoch 4/50\n",
      "234/234 [==============================] - 34s - loss: 0.4240 - acc: 0.8253 - val_loss: 0.3803 - val_acc: 0.8403\n",
      "Epoch 5/50\n",
      "234/234 [==============================] - 33s - loss: 0.4106 - acc: 0.8312 - val_loss: 0.3732 - val_acc: 0.8444\n",
      "Epoch 6/50\n",
      "234/234 [==============================] - 38s - loss: 0.4008 - acc: 0.8356 - val_loss: 0.3612 - val_acc: 0.8518\n",
      "Epoch 7/50\n",
      "234/234 [==============================] - 36s - loss: 0.3929 - acc: 0.8399 - val_loss: 0.3624 - val_acc: 0.8503\n",
      "Epoch 8/50\n",
      "234/234 [==============================] - 36s - loss: 0.3875 - acc: 0.8426 - val_loss: 0.3554 - val_acc: 0.8551\n",
      "Epoch 9/50\n",
      "234/234 [==============================] - 36s - loss: 0.3827 - acc: 0.8439 - val_loss: 0.3522 - val_acc: 0.8579\n",
      "Epoch 10/50\n",
      "234/234 [==============================] - 30s - loss: 0.3797 - acc: 0.8456 - val_loss: 0.3525 - val_acc: 0.8584\n",
      "Epoch 11/50\n",
      "234/234 [==============================] - 31s - loss: 0.3756 - acc: 0.8471 - val_loss: 0.3492 - val_acc: 0.8604\n",
      "Epoch 12/50\n",
      "234/234 [==============================] - 26s - loss: 0.3753 - acc: 0.8470 - val_loss: 0.3477 - val_acc: 0.8621\n",
      "Epoch 13/50\n",
      "234/234 [==============================] - 37s - loss: 0.3722 - acc: 0.8488 - val_loss: 0.3468 - val_acc: 0.8636\n",
      "Epoch 14/50\n",
      "234/234 [==============================] - 37s - loss: 0.3726 - acc: 0.8483 - val_loss: 0.3455 - val_acc: 0.8643\n",
      "Epoch 15/50\n",
      "234/234 [==============================] - 37s - loss: 0.3689 - acc: 0.8499 - val_loss: 0.3465 - val_acc: 0.8653\n",
      "Epoch 16/50\n",
      "234/234 [==============================] - 35s - loss: 0.3682 - acc: 0.8503 - val_loss: 0.3445 - val_acc: 0.8644\n",
      "Epoch 17/50\n",
      "234/234 [==============================] - 39s - loss: 0.3714 - acc: 0.8517 - val_loss: 0.3424 - val_acc: 0.8665\n",
      "Epoch 18/50\n",
      "234/234 [==============================] - 40s - loss: 0.3643 - acc: 0.8520 - val_loss: 0.3423 - val_acc: 0.8658\n",
      "Epoch 19/50\n",
      "234/234 [==============================] - 36s - loss: 0.3631 - acc: 0.8526 - val_loss: 0.3412 - val_acc: 0.8667\n",
      "Epoch 20/50\n",
      "234/234 [==============================] - 35s - loss: 0.3623 - acc: 0.8537 - val_loss: 0.3426 - val_acc: 0.8671\n",
      "Epoch 21/50\n",
      "234/234 [==============================] - 40s - loss: 0.3614 - acc: 0.8535 - val_loss: 0.3418 - val_acc: 0.8676\n",
      "Epoch 22/50\n",
      "234/234 [==============================] - 39s - loss: 0.3839 - acc: 0.8516 - val_loss: 0.3400 - val_acc: 0.8683\n",
      "Epoch 23/50\n"
     ]
    },
    {
     "name": "stdout",
     "output_type": "stream",
     "text": [
      "234/234 [==============================] - 43s - loss: 0.3672 - acc: 0.8543 - val_loss: 0.3401 - val_acc: 0.8677\n",
      "Epoch 24/50\n",
      "234/234 [==============================] - 43s - loss: 0.3598 - acc: 0.8545 - val_loss: 0.3411 - val_acc: 0.8675\n",
      "Epoch 25/50\n",
      "234/234 [==============================] - 41s - loss: 0.3594 - acc: 0.8552 - val_loss: 0.3390 - val_acc: 0.8689\n",
      "Epoch 26/50\n",
      "234/234 [==============================] - 26s - loss: 0.3567 - acc: 0.8559 - val_loss: 0.3397 - val_acc: 0.8682\n",
      "Epoch 27/50\n",
      "234/234 [==============================] - 42s - loss: 0.3575 - acc: 0.8560 - val_loss: 0.3385 - val_acc: 0.8688\n",
      "Epoch 28/50\n",
      "234/234 [==============================] - 43s - loss: 0.3570 - acc: 0.8565 - val_loss: 0.3398 - val_acc: 0.8625\n",
      "Epoch 29/50\n",
      "234/234 [==============================] - 43s - loss: 0.3561 - acc: 0.8563 - val_loss: 0.3399 - val_acc: 0.8687\n",
      "Epoch 30/50\n",
      "234/234 [==============================] - 47s - loss: 0.3572 - acc: 0.8561 - val_loss: 0.3379 - val_acc: 0.8693\n",
      "Epoch 31/50\n",
      "234/234 [==============================] - 39s - loss: 0.3537 - acc: 0.8559 - val_loss: 0.3370 - val_acc: 0.8626\n",
      "Epoch 32/50\n",
      "234/234 [==============================] - 46s - loss: 0.3556 - acc: 0.8564 - val_loss: 0.3375 - val_acc: 0.8690\n",
      "Epoch 33/50\n",
      "234/234 [==============================] - 43s - loss: 0.3546 - acc: 0.8573 - val_loss: 0.3361 - val_acc: 0.8694\n",
      "Epoch 34/50\n",
      "234/234 [==============================] - 43s - loss: 0.3527 - acc: 0.8579 - val_loss: 0.3381 - val_acc: 0.8697\n",
      "Epoch 35/50\n",
      "234/234 [==============================] - 44s - loss: 0.3530 - acc: 0.8564 - val_loss: 0.3365 - val_acc: 0.8693\n",
      "Epoch 36/50\n",
      "234/234 [==============================] - 27s - loss: 0.3526 - acc: 0.8584 - val_loss: 0.3372 - val_acc: 0.8699\n",
      "Epoch 37/50\n",
      "234/234 [==============================] - 44s - loss: 0.3537 - acc: 0.8576 - val_loss: 0.3362 - val_acc: 0.8708\n",
      "Epoch 38/50\n",
      "234/234 [==============================] - 41s - loss: 0.3527 - acc: 0.8572 - val_loss: 0.3356 - val_acc: 0.8638\n",
      "Epoch 39/50\n",
      "234/234 [==============================] - 24s - loss: 0.3509 - acc: 0.8588 - val_loss: 0.3368 - val_acc: 0.8687\n",
      "Epoch 40/50\n",
      "234/234 [==============================] - 32s - loss: 0.3514 - acc: 0.8587 - val_loss: 0.3353 - val_acc: 0.8705\n",
      "Epoch 41/50\n",
      "234/234 [==============================] - 42s - loss: 0.3502 - acc: 0.8590 - val_loss: 0.3368 - val_acc: 0.8705\n",
      "Epoch 42/50\n",
      "234/234 [==============================] - 33s - loss: 0.3519 - acc: 0.8590 - val_loss: 0.3362 - val_acc: 0.8707\n",
      "Epoch 43/50\n",
      "234/234 [==============================] - 38s - loss: 0.3511 - acc: 0.8589 - val_loss: 0.3347 - val_acc: 0.8713\n",
      "Epoch 44/50\n",
      "234/234 [==============================] - 43s - loss: 0.3498 - acc: 0.8590 - val_loss: 0.3359 - val_acc: 0.8710\n",
      "Epoch 45/50\n",
      "234/234 [==============================] - 43s - loss: 0.3493 - acc: 0.8600 - val_loss: 0.3360 - val_acc: 0.8705\n",
      "Epoch 46/50\n",
      "234/234 [==============================] - 43s - loss: 0.3492 - acc: 0.8595 - val_loss: 0.3355 - val_acc: 0.8714\n",
      "Epoch 47/50\n",
      "234/234 [==============================] - 39s - loss: 0.3481 - acc: 0.8602 - val_loss: 0.3348 - val_acc: 0.8710\n",
      "Epoch 48/50\n",
      "234/234 [==============================] - 33s - loss: 0.3476 - acc: 0.8607 - val_loss: 0.3357 - val_acc: 0.8717\n",
      "Epoch 49/50\n",
      "234/234 [==============================] - 32s - loss: 0.3481 - acc: 0.8607 - val_loss: 0.3362 - val_acc: 0.8710\n",
      "Epoch 50/50\n",
      "234/234 [==============================] - 41s - loss: 0.3483 - acc: 0.8597 - val_loss: 0.3352 - val_acc: 0.8717\n",
      "Evaluating score on test sample...\n",
      "Final Score: [0.33352437638033361, 0.87210051517284759]\n",
      "Running Analysis.\n",
      ". . . . . . . . . . . . . . . . . . . . . . . . . . . . . . . . . . . . . . . . . . . . . . . . . . . . . . . . . .\n"
     ]
    },
    {
     "name": "stderr",
     "output_type": "stream",
     "text": [
      "/usr/local/lib/python2.7/dist-packages/matplotlib/__init__.py:1405: UserWarning: \n",
      "This call to matplotlib.use() has no effect because the backend has already\n",
      "been chosen; matplotlib.use() must be called *before* pylab, matplotlib.pyplot,\n",
      "or matplotlib.backends is imported for the first time.\n",
      "\n",
      "  warnings.warn(_use_error_msg)\n"
     ]
    },
    {
     "data": {
      "image/png": "[encoded data removed]",
      "text/plain": [
       "<matplotlib.figure.Figure at 0x7ff4403c9e50>"
      ]
     },
     "metadata": {},
     "output_type": "display_data"
    }
   ],
   "source": [
    "%matplotlib inline\n",
    "import matplotlib.pyplot as plt\n",
    "%run -im CaloDNN.NeuralNets.ClassificationExperiment -- -C \"CaloDNN/NeuralNets/ScanConfigs/Dense_GammaPi0.py\""
   ]
  },
  {
   "cell_type": "code",
   "execution_count": null,
   "metadata": {},
   "outputs": [],
   "source": [
    "sys.path.append('/home/jupyterhubadmin/.virtualenvs/meow/local/lib/python2.7/site-packages/')\n",
    "from DLAnalysis.Scan import *\n",
    "\n",
    "MyModels=[MyModel]\n",
    "# Rename the Models using Width and Depth\n",
    "ResetNames(MyModels,[\"Width\",\"Depth\"])\n",
    "\n",
    "# Add the number of epochs to MetaData by counting length of history\n",
    "GetEpochs(MyModels)\n",
    "\n",
    "# Pull data from previous trainings into latest MetaData, with \"All_\" suffix\n",
    "print \"Historical Parameters:\",GetHistorical(MyModels) \n",
    "print \"-------------\"\n",
    "print \"MetaData:\",MyModel.MetaData.keys()\n",
    "print \"-------------\"\n",
    "\n",
    "print \"Available Parameters:\", GetGoodParams(MyModels)"
   ]
  },
  {
   "cell_type": "code",
   "execution_count": null,
   "metadata": {
    "collapsed": true
   },
   "outputs": [],
   "source": [
    "ScanTable(MyModels,['Model Name', 'Width', 'Depth', 'Epochs', 'Ele_AUC',  'Pi0_AUC', 'ChPi_AUC',  'Gamma_AUC'],[1,2,0])"
   ]
  },
  {
   "cell_type": "code",
   "execution_count": null,
   "metadata": {
    "collapsed": true
   },
   "outputs": [],
   "source": [
    "PlotMetaDataMany(MyModels,4,\n",
    "                [[\"History\",\"loss\"],[\"History\",\"val_loss\"]],\n",
    "                     sort=[\"Width\",\"Depth\",\"lr\",\"decay\"],switch=[\"Width\",\"Depth\"],loc=\"center left\")"
   ]
  },
  {
   "cell_type": "code",
   "execution_count": null,
   "metadata": {
    "collapsed": true
   },
   "outputs": [],
   "source": [
    "# Note this will work only if you trained the same model more than once \n",
    "PlotMetaData(MyModels,[\"All_History.loss\"])"
   ]
  },
  {
   "cell_type": "code",
   "execution_count": null,
   "metadata": {
    "collapsed": true
   },
   "outputs": [],
   "source": [
    "PlotMetaDataMany(MyModels,4,\n",
    "                [[\"All_History.loss\"],[\"All_History.val_loss\"]],\n",
    "                     sort=[\"Width\",\"Depth\",\"lr\",\"decay\"],switch=[\"Width\",\"Depth\"],loc=\"center left\")"
   ]
  },
  {
   "cell_type": "code",
   "execution_count": null,
   "metadata": {
    "collapsed": true
   },
   "outputs": [],
   "source": [
    "MyModel.MetaData[\"InputMetaData\"]"
   ]
  },
  {
   "cell_type": "code",
   "execution_count": null,
   "metadata": {
    "collapsed": true
   },
   "outputs": [],
   "source": [
    "GetHistorical(MyModels)"
   ]
  }
 ],
 "metadata": {
  "kernelspec": {
   "display_name": "Python 2",
   "language": "python",
   "name": "python2"
  },
  "language_info": {
   "codemirror_mode": {
    "name": "ipython",
    "version": 2
   },
   "file_extension": ".py",
   "mimetype": "text/x-python",
   "name": "python",
   "nbconvert_exporter": "python",
   "pygments_lexer": "ipython2",
   "version": "2.7.12"
  }
 },
 "nbformat": 4,
 "nbformat_minor": 2
}
