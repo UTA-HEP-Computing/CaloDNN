{
 "cells": [
  {
   "cell_type": "code",
   "execution_count": 1,
   "metadata": {
    "collapsed": false
   },
   "outputs": [
    {
     "name": "stdout",
     "output_type": "stream",
     "text": [
      "Using CPU.\n",
      "HyperParameter Scan:  20 possible combiniations.\n",
      "______________________________________\n",
      "ScanConfiguration\n",
      "______________________________________\n",
      "Picked combination:  0\n",
      "Combo[0]={'Width': 32, 'Depth': 1}\n",
      "Model Filename:  CaloDNN_32_1\n",
      "______________________________________\n",
      "Test Mode: Set MaxEvents to 20000 and Epochs to 10\n",
      "Using PremixGenerator.\n"
     ]
    },
    {
     "name": "stderr",
     "output_type": "stream",
     "text": [
      "Using Theano backend.\n"
     ]
    },
    {
     "name": "stdout",
     "output_type": "stream",
     "text": [
      "Loading Previous Model.\n",
      "Building Model... Warning: optimizer configuration parameter nesterov was not set in configuration file. Will use default.\n",
      "Warning: optimizer configuration parameter lr was not set in configuration file. Will use default.\n",
      "Warning: optimizer configuration parameter momentum was not set in configuration file. Will use default.\n",
      "Warning: optimizer configuration parameter decay was not set in configuration file. Will use default.\n",
      "Merged Models\n",
      " Done.\n",
      "Output Directory: TrainedModels/CaloDNN_32_1_Merged\n",
      "____________________________________________________________________________________________________\n",
      "Layer (type)                     Output Shape          Param #     Connected to                     \n",
      "====================================================================================================\n",
      "flatten_1 (Flatten)              (None, 15625)         0           flatten_input_1[0][0]            \n",
      "____________________________________________________________________________________________________\n",
      "activation_1 (Activation)        (None, 15625)         0           flatten_1[0][0]                  \n",
      "____________________________________________________________________________________________________\n",
      "dense_1 (Dense)                  (None, 32)            500032      activation_1[0][0]               \n",
      "____________________________________________________________________________________________________\n",
      "activation_2 (Activation)        (None, 32)            0           dense_1[0][0]                    \n",
      "____________________________________________________________________________________________________\n",
      "dropout_1 (Dropout)              (None, 32)            0           activation_2[0][0]               \n",
      "____________________________________________________________________________________________________\n",
      "dense_2 (Dense)                  (None, 4)             132         dropout_1[0][0]                  \n",
      "____________________________________________________________________________________________________\n",
      "flatten_2 (Flatten)              (None, 1500)          0           flatten_input_2[0][0]            \n",
      "____________________________________________________________________________________________________\n",
      "activation_3 (Activation)        (None, 1500)          0           flatten_2[0][0]                  \n",
      "____________________________________________________________________________________________________\n",
      "dense_3 (Dense)                  (None, 32)            48032       activation_3[0][0]               \n",
      "____________________________________________________________________________________________________\n",
      "activation_4 (Activation)        (None, 32)            0           dense_3[0][0]                    \n",
      "____________________________________________________________________________________________________\n",
      "dropout_2 (Dropout)              (None, 32)            0           activation_4[0][0]               \n",
      "____________________________________________________________________________________________________\n",
      "dense_4 (Dense)                  (None, 4)             132         dropout_2[0][0]                  \n",
      "____________________________________________________________________________________________________\n",
      "dense_5 (Dense)                  (None, 4)             36          merge_1[0][0]                    \n",
      "====================================================================================================\n",
      "Total params: 548,364\n",
      "Trainable params: 548,364\n",
      "Non-trainable params: 0\n",
      "____________________________________________________________________________________________________\n",
      "Compiling Model.\n",
      "Skipping Training.\n"
     ]
    }
   ],
   "source": [
    "%matplotlib inline\n",
    "%rm -rf TrainedModels\n",
    "%run -im CaloDNN.ClassificationExperiment -- --Test --NoTrain --NoAnalysis --cpu"
   ]
  },
  {
   "cell_type": "code",
   "execution_count": 2,
   "metadata": {
    "collapsed": false
   },
   "outputs": [
    {
     "name": "stdout",
     "output_type": "stream",
     "text": [
      "2\n"
     ]
    }
   ],
   "source": [
    "D=Train_gen.next()\n",
    "print len(D)\n",
    "X=D[0][0]"
   ]
  },
  {
   "cell_type": "code",
   "execution_count": 3,
   "metadata": {
    "collapsed": false
   },
   "outputs": [
    {
     "name": "stdout",
     "output_type": "stream",
     "text": [
      "[  1.50887217e-06   1.96067708e-06   2.61981459e-03 ...,   6.12990931e-04\n",
      "   3.61175300e-03   5.43610622e-06]\n"
     ]
    }
   ],
   "source": [
    "import numpy as np\n",
    "print X[np.where(X!=0.)]"
   ]
  },
  {
   "cell_type": "markdown",
   "metadata": {},
   "source": [
    "Get the Model Wieghts before training..."
   ]
  },
  {
   "cell_type": "code",
   "execution_count": 4,
   "metadata": {
    "collapsed": false
   },
   "outputs": [
    {
     "data": {
      "text/plain": [
       "[array([[ -1.24883605e-02,   9.29304883e-02,   1.07531180e-03,\n",
       "           1.44031540e-01],\n",
       "        [ -9.72768944e-03,   1.98220145e-02,  -5.43796793e-02,\n",
       "           3.42876762e-02],\n",
       "        [ -1.15736118e-04,  -1.55507484e-02,   1.14687890e-01,\n",
       "          -1.04785390e-01],\n",
       "        [  3.27294916e-02,   9.24017727e-02,   9.72921327e-02,\n",
       "           3.26455720e-02],\n",
       "        [  3.26439962e-02,  -3.16961966e-02,  -3.19038369e-02,\n",
       "           2.96041276e-02],\n",
       "        [ -6.17244467e-02,   2.27217916e-02,   2.25495715e-02,\n",
       "           2.25644913e-02],\n",
       "        [ -2.67433887e-03,   2.56509334e-03,   3.43686007e-02,\n",
       "          -4.71223816e-02],\n",
       "        [  1.03141079e-02,   6.28590807e-02,   6.95661129e-03,\n",
       "           2.33267229e-02]], dtype=float32),\n",
       " array([ 0.,  0.,  0.,  0.], dtype=float32)]"
      ]
     },
     "execution_count": 4,
     "metadata": {},
     "output_type": "execute_result"
    }
   ],
   "source": [
    "MyModel.Model.layers[1].get_weights()"
   ]
  },
  {
   "cell_type": "markdown",
   "metadata": {},
   "source": [
    "Looks like weights aren't there until we run it once? Ok... just evaluate the model on the data:"
   ]
  },
  {
   "cell_type": "code",
   "execution_count": 5,
   "metadata": {
    "collapsed": true
   },
   "outputs": [],
   "source": [
    "score = MyModel.Model.evaluate_generator(Test_gen,\n",
    "                                             val_samples=NTestSamples, \n",
    "                                             nb_worker=1,\n",
    "                                             pickle_safe=False)"
   ]
  },
  {
   "cell_type": "code",
   "execution_count": 6,
   "metadata": {
    "collapsed": false
   },
   "outputs": [
    {
     "data": {
      "text/plain": [
       "[array([[ -1.24883605e-02,   9.29304883e-02,   1.07531180e-03,\n",
       "           1.44031540e-01],\n",
       "        [ -9.72768944e-03,   1.98220145e-02,  -5.43796793e-02,\n",
       "           3.42876762e-02],\n",
       "        [ -1.15736118e-04,  -1.55507484e-02,   1.14687890e-01,\n",
       "          -1.04785390e-01],\n",
       "        [  3.27294916e-02,   9.24017727e-02,   9.72921327e-02,\n",
       "           3.26455720e-02],\n",
       "        [  3.26439962e-02,  -3.16961966e-02,  -3.19038369e-02,\n",
       "           2.96041276e-02],\n",
       "        [ -6.17244467e-02,   2.27217916e-02,   2.25495715e-02,\n",
       "           2.25644913e-02],\n",
       "        [ -2.67433887e-03,   2.56509334e-03,   3.43686007e-02,\n",
       "          -4.71223816e-02],\n",
       "        [  1.03141079e-02,   6.28590807e-02,   6.95661129e-03,\n",
       "           2.33267229e-02]], dtype=float32),\n",
       " array([ 0.,  0.,  0.,  0.], dtype=float32)]"
      ]
     },
     "execution_count": 6,
     "metadata": {},
     "output_type": "execute_result"
    }
   ],
   "source": [
    "MyModel.Model.layers[1].get_weights()"
   ]
  },
  {
   "cell_type": "code",
   "execution_count": null,
   "metadata": {
    "collapsed": true
   },
   "outputs": [],
   "source": []
  }
 ],
 "metadata": {
  "kernelspec": {
   "display_name": "Python 2",
   "language": "python",
   "name": "python2"
  },
  "language_info": {
   "codemirror_mode": {
    "name": "ipython",
    "version": 2
   },
   "file_extension": ".py",
   "mimetype": "text/x-python",
   "name": "python",
   "nbconvert_exporter": "python",
   "pygments_lexer": "ipython2",
   "version": "2.7.10"
  }
 },
 "nbformat": 4,
 "nbformat_minor": 2
}
