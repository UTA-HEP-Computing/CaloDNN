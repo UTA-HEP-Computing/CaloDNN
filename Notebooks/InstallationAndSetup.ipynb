{
 "cells": [
  {
   "cell_type": "markdown",
   "metadata": {},
   "source": [
    "# CaloDNN Package Installation and Setup\n",
    "\n",
    "These are the instructions for getting setup to run the CaloDNN package. For the workshop we will be running the jobs using Amir Farbin's computing cluster at UTArlington."
   ]
  },
  {
   "cell_type": "markdown",
   "metadata": {},
   "source": [
    "**Register and obtain an account on the UTA cluster**\n",
    "(add instructions)"
   ]
  },
  {
   "cell_type": "markdown",
   "metadata": {},
   "source": [
    "**Login to Jupyter Hub**\n",
    "\n",
    "From your local machine in a terminal type:\n",
    "    > ssh -NfL 8000:127.0.0.1:8000 orodruin.uta.edu\n",
    "\n",
    "Navigate your local web browser to the url:\n",
    "127.0.0.1:8000/hub/login\n"
   ]
  },
  {
   "cell_type": "markdown",
   "metadata": {},
   "source": [
    "**Instructions to checkout packages from the command line**\n",
    "\n",
    "Get the packages:\n",
    "    > git clone https://bitbucket.org/anomalousai/DLKit\n",
    "    > cd DLKit\n",
    "    > git clone https://github.com/UTA-HEP-Computing/CaloDNN\n",
    "\n",
    "Work from DLKit Directory:\n",
    "    > cd DLKit\n",
    "\n",
    "Make sure CUDA is setup if you are using GPUs (default) or add `--cpu`\n",
    "flag below to run on CPUs.\n",
    "\n",
    "Make sure requirements are installed:\n",
    "    > pip install -r CaloDNN/requirements.txt\n"
   ]
  },
  {
   "cell_type": "code",
   "execution_count": null,
   "metadata": {
    "collapsed": true
   },
   "outputs": [],
   "source": []
  }
 ],
 "metadata": {
  "kernelspec": {
   "display_name": "Python 2",
   "language": "python",
   "name": "python2"
  },
  "language_info": {
   "codemirror_mode": {
    "name": "ipython",
    "version": 2
   },
   "file_extension": ".py",
   "mimetype": "text/x-python",
   "name": "python",
   "nbconvert_exporter": "python",
   "pygments_lexer": "ipython2",
   "version": "2.7.12"
  }
 },
 "nbformat": 4,
 "nbformat_minor": 2
}
