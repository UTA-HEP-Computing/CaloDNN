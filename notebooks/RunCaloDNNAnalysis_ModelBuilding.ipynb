{
 "cells": [
  {
   "cell_type": "markdown",
   "metadata": {},
   "source": [
    "# Running the LCD dataset analysis: Building a Model and Running a Scan\n",
    "\n",
    "Please follow the step-by-step instructions below using jupyter notebook. Note this needs to be run from your DLKit/ directory."
   ]
  },
  {
   "cell_type": "markdown",
   "metadata": {},
   "source": [
    "As we just saw in \"Running the LCD dataset analysis: The basics\" there are 240 possible combinations for the hyper-parameters we could test. The goal is to find the best one for our particle classification problem. Previously we ran the default Test option which ran a reduced number of events and epochs for combination number 0. To see the various configurations type:"
   ]
  },
  {
   "cell_type": "code",
   "execution_count": null,
   "metadata": {
    "collapsed": true
   },
   "outputs": [],
   "source": [
    "%run -im CaloDNN.ClassificationScanConfig"
   ]
  },
  {
   "cell_type": "markdown",
   "metadata": {},
   "source": [
    "If you want to run a specific scan configuration use the -s flag, for example to run the configuration number 5 type (still in the Test mode):"
   ]
  },
  {
   "cell_type": "code",
   "execution_count": null,
   "metadata": {
    "collapsed": true
   },
   "outputs": [],
   "source": [
    "%run -im CaloDNN.ClassificationExperiment -- --Test -s 5"
   ]
  },
  {
   "cell_type": "markdown",
   "metadata": {},
   "source": [
    "## Performing a Scan\n",
    "\n",
    "You can easily try all possible configurations by running the same command with all possible values of the `-s` parameter. And since every configuration is independent, you can run the experiments in parallel. \n",
    "\n",
    "As a reminder all of the trained models are stored in the CaloDNN/TrainedModels directory."
   ]
  },
  {
   "cell_type": "markdown",
   "metadata": {},
   "source": [
    "### Running in batch\n",
    "\n",
    "LH: Add instructions."
   ]
  },
  {
   "cell_type": "markdown",
   "metadata": {},
   "source": [
    "## Analyzing the results\n",
    "\n",
    "LH: Show some of the available plotting routines and analysis packages"
   ]
  },
  {
   "cell_type": "code",
   "execution_count": null,
   "metadata": {
    "collapsed": true
   },
   "outputs": [],
   "source": []
  }
 ],
 "metadata": {
  "kernelspec": {
   "display_name": "Python 2",
   "language": "python",
   "name": "python2"
  },
  "language_info": {
   "codemirror_mode": {
    "name": "ipython",
    "version": 2
   },
   "file_extension": ".py",
   "mimetype": "text/x-python",
   "name": "python",
   "nbconvert_exporter": "python",
   "pygments_lexer": "ipython2",
   "version": "2.7.12"
  }
 },
 "nbformat": 4,
 "nbformat_minor": 2
}
