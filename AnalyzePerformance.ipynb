{
 "cells": [
  {
   "cell_type": "code",
   "execution_count": null,
   "metadata": {
    "collapsed": false
   },
   "outputs": [
    {
     "name": "stdout",
     "output_type": "stream",
     "text": [
      "Using CPU.\n",
      "HyperParameter Scan:  20 possible combiniations.\n",
      "______________________________________\n",
      "ScanConfiguration\n",
      "______________________________________\n",
      "Picked combination:  0\n",
      "Combo[0]={'Width': 32, 'Depth': 1}\n",
      "Model Filename:  CaloDNN_32_1\n",
      "______________________________________\n",
      "Using PremixGenerator."
     ]
    },
    {
     "name": "stderr",
     "output_type": "stream",
     "text": [
      "Using Theano backend.\n"
     ]
    },
    {
     "name": "stdout",
     "output_type": "stream",
     "text": [
      "\n",
      "Loading Model From: CaloDNN_512_2_Merged.1\n",
      "Output Directory: TrainedModels/CaloDNN_512_2_Merged.1\n",
      "____________________________________________________________________________________________________\n",
      "Layer (type)                     Output Shape          Param #     Connected to                     \n",
      "====================================================================================================\n",
      "flatten_1 (Flatten)              (1024, 15625)         0           flatten_input_1[0][0]            \n",
      "____________________________________________________________________________________________________\n",
      "activation_1 (Activation)        (1024, 15625)         0           flatten_1[0][0]                  \n",
      "____________________________________________________________________________________________________\n",
      "dense_1 (Dense)                  (1024, 512)           8000512     activation_1[0][0]               \n",
      "____________________________________________________________________________________________________\n",
      "activation_2 (Activation)        (1024, 512)           0           dense_1[0][0]                    \n",
      "____________________________________________________________________________________________________\n",
      "dropout_1 (Dropout)              (1024, 512)           0           activation_2[0][0]               \n",
      "____________________________________________________________________________________________________\n",
      "dense_2 (Dense)                  (1024, 512)           262656      dropout_1[0][0]                  \n",
      "____________________________________________________________________________________________________\n",
      "activation_3 (Activation)        (1024, 512)           0           dense_2[0][0]                    \n",
      "____________________________________________________________________________________________________\n",
      "dropout_2 (Dropout)              (1024, 512)           0           activation_3[0][0]               \n",
      "____________________________________________________________________________________________________\n",
      "dense_3 (Dense)                  (1024, 4)             2052        dropout_2[0][0]                  \n",
      "____________________________________________________________________________________________________\n",
      "flatten_2 (Flatten)              (1024, 1500)          0           flatten_input_2[0][0]            \n",
      "____________________________________________________________________________________________________\n",
      "activation_4 (Activation)        (1024, 1500)          0           flatten_2[0][0]                  \n",
      "____________________________________________________________________________________________________\n",
      "dense_4 (Dense)                  (1024, 512)           768512      activation_4[0][0]               \n",
      "____________________________________________________________________________________________________\n",
      "activation_5 (Activation)        (1024, 512)           0           dense_4[0][0]                    \n",
      "____________________________________________________________________________________________________\n",
      "dropout_3 (Dropout)              (1024, 512)           0           activation_5[0][0]               \n",
      "____________________________________________________________________________________________________\n",
      "dense_5 (Dense)                  (1024, 512)           262656      dropout_3[0][0]                  \n",
      "____________________________________________________________________________________________________\n",
      "activation_6 (Activation)        (1024, 512)           0           dense_5[0][0]                    \n",
      "____________________________________________________________________________________________________\n",
      "dropout_4 (Dropout)              (1024, 512)           0           activation_6[0][0]               \n",
      "____________________________________________________________________________________________________\n",
      "dense_6 (Dense)                  (1024, 4)             2052        dropout_4[0][0]                  \n",
      "____________________________________________________________________________________________________\n",
      "dense_7 (Dense)                  (1024, 4)             36          merge_1[0][0]                    \n",
      "====================================================================================================\n",
      "Total params: 9,298,476\n",
      "Trainable params: 9,298,476\n",
      "Non-trainable params: 0\n",
      "____________________________________________________________________________________________________\n",
      "Compiling Model.\n",
      "Skipping Training.\n"
     ]
    }
   ],
   "source": [
    "%matplotlib inline\n",
    "%run -im CaloDNN.ClassificationExperiment -- --NoAnalysis --NoTrain --cpu -L CaloDNN_512_2_Merged.1"
   ]
  },
  {
   "cell_type": "code",
   "execution_count": null,
   "metadata": {
    "collapsed": false
   },
   "outputs": [
    {
     "name": "stderr",
     "output_type": "stream",
     "text": [
      "/System/Library/Frameworks/Python.framework/Versions/2.7/Extras/lib/python/matplotlib/__init__.py:1155: UserWarning:  This call to matplotlib.use() has no effect\n",
      "because the backend has already been chosen;\n",
      "matplotlib.use() must be called *before* pylab, matplotlib.pyplot,\n",
      "or matplotlib.backends is imported for the first time.\n",
      "\n",
      "  warnings.warn(_use_error_msg)\n"
     ]
    }
   ],
   "source": [
    "Test_genC.datasets+=[\"target\"]\n",
    "Test_genC.preprocessfunction=ConstantNormalization(Norms+[1.])\n",
    "Test_genC.PreloadData()\n",
    "\n",
    "Test_X_ECAL, Test_X_HCAL, Test_Y, target = tuple(Test_genC.D)\n",
    "\n",
    "from CaloDNN.Analysis import MultiClassificationAnalysis\n",
    "result,NewMetaData=MultiClassificationAnalysis(MyModel,[Test_X_ECAL,Test_X_HCAL],Test_Y,BatchSize,\n",
    "                                                       IndexMap={0:'Pi0', 2:'ChPi', 3:'Gamma', 1:'Ele'})"
   ]
  },
  {
   "cell_type": "code",
   "execution_count": null,
   "metadata": {
    "collapsed": false
   },
   "outputs": [],
   "source": [
    "import numpy as np\n",
    "\n",
    "def BinData(Xs,Y,Ymin,Ymax,Ybins):\n",
    "    out=[]\n",
    "    Ystep=(Ymax-Ymin)/Ybins\n",
    "    Ysample=np.arange(Ymin,Ymax,Ystep)\n",
    "    for X in Xs+[Y]:\n",
    "        Xout=[]\n",
    "        for y in Ysample:\n",
    "            Xout.append(X[np.where((Y>=y) & (Y<y+Ystep))])\n",
    "        out.append(Xout)\n",
    "    return out+[Ysample]\n",
    "            \n",
    "        "
   ]
  },
  {
   "cell_type": "code",
   "execution_count": null,
   "metadata": {
    "collapsed": false
   },
   "outputs": [],
   "source": [
    "E_min,E_max,E_bins=10.,510.,20.\n",
    "E_step=(E_max-E_min)/E_bins\n",
    "\n",
    "Energy=target[:,:,2].flatten()\n",
    "BD=BinData([Test_X_ECAL, Test_X_HCAL, Test_Y, result], Energy, E_min,E_max,E_bins )\n",
    "E_binning=BD[-1]"
   ]
  },
  {
   "cell_type": "code",
   "execution_count": null,
   "metadata": {
    "collapsed": false
   },
   "outputs": [],
   "source": [
    "BinnedResults={}\n",
    "for i,E in enumerate(E_binning):\n",
    "    tmp,NewMetaData=MultiClassificationAnalysis(MyModel,Test_Y=BD[2][i],result=BD[3][i],MakePlot=False,\n",
    "                                                IndexMap={0:'Pi0', 2:'ChPi', 3:'Gamma', 1:'Ele'})\n",
    "        \n",
    "    for MD in NewMetaData:\n",
    "        if MD in BinnedResults:\n",
    "            BinnedResults[MD].append(NewMetaData[MD])\n",
    "        else:\n",
    "            BinnedResults[MD]=[NewMetaData[MD]]\n",
    "    "
   ]
  },
  {
   "cell_type": "code",
   "execution_count": null,
   "metadata": {
    "collapsed": false
   },
   "outputs": [],
   "source": [
    "import matplotlib.pyplot as plt\n",
    "for MD in BinnedResults:\n",
    "    plt.plot(E_binning,BinnedResults[MD],label=MD)\n",
    "plt.legend(loc=\"center left\", bbox_to_anchor=(1, .5),fontsize=8)\n"
   ]
  },
  {
   "cell_type": "code",
   "execution_count": null,
   "metadata": {
    "collapsed": true
   },
   "outputs": [],
   "source": []
  }
 ],
 "metadata": {
  "kernelspec": {
   "display_name": "Python 2",
   "language": "python",
   "name": "python2"
  },
  "language_info": {
   "codemirror_mode": {
    "name": "ipython",
    "version": 2
   },
   "file_extension": ".py",
   "mimetype": "text/x-python",
   "name": "python",
   "nbconvert_exporter": "python",
   "pygments_lexer": "ipython2",
   "version": "2.7.10"
  }
 },
 "nbformat": 4,
 "nbformat_minor": 2
}
